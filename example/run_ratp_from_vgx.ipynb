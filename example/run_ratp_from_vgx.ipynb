{
 "cells": [
  {
   "cell_type": "markdown",
   "id": "b408432e-fd4a-42dd-a505-87e37ae9929b",
   "metadata": {},
   "source": [
    "RATP is a voxel based model for computing plant irradiation balance along with transpiration and photosynthesis."
   ]
  },
  {
   "cell_type": "markdown",
   "id": "cd8e8d75-8801-4091-838e-5ba296e7c65e",
   "metadata": {},
   "source": [
    "RATP voxels must be filled with a list of points, each associated with a leaf surface and nitrogen content. This list of points can be obtained from different ways: full digitalization of a real plant, Lidar scan completed with plant area density estimation for each voxel, or through the creation fo artifical plants."
   ]
  },
  {
   "cell_type": "code",
   "execution_count": null,
   "id": "808f6288-5d59-4710-882f-42a0b0c21c68",
   "metadata": {},
   "outputs": [],
   "source": []
  }
 ],
 "metadata": {
  "kernelspec": {
   "display_name": "Python 3 (ipykernel)",
   "language": "python",
   "name": "python3"
  },
  "language_info": {
   "codemirror_mode": {
    "name": "ipython",
    "version": 3
   },
   "file_extension": ".py",
   "mimetype": "text/x-python",
   "name": "python",
   "nbconvert_exporter": "python",
   "pygments_lexer": "ipython3",
   "version": "3.12.3"
  }
 },
 "nbformat": 4,
 "nbformat_minor": 5
}
